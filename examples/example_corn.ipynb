{
 "cells": [
  {
   "cell_type": "markdown",
   "id": "1eac255c",
   "metadata": {},
   "source": [
    "# Loading a Pretrained Model"
   ]
  },
  {
   "cell_type": "code",
   "execution_count": 1,
   "id": "9ba54ecd",
   "metadata": {},
   "outputs": [
    {
     "name": "stderr",
     "output_type": "stream",
     "text": [
      "Using cache found in /Users/sebastianraschka/.cache/torch/hub/rasbt_ord-torchhub_main\n"
     ]
    }
   ],
   "source": [
    "import torch\n",
    "\n",
    "\n",
    "device = torch.device('cuda' if torch.cuda.is_available() else 'cpu')\n",
    "\n",
    "model = torch.hub.load(\"rasbt/ord-torchhub\", model=\"resnet34_corn_afad\", source='github', pretrained=True)\n",
    "model.to(device);"
   ]
  },
  {
   "cell_type": "markdown",
   "id": "c2fe7073",
   "metadata": {},
   "source": [
    "# Classifying Images (from AFAD)"
   ]
  },
  {
   "cell_type": "markdown",
   "id": "122b36f2",
   "metadata": {},
   "source": [
    "Note that the model has been pretrained on the [AFAD dataset](https://afad-dataset.github.io) and may not perform well on other datasets."
   ]
  },
  {
   "cell_type": "code",
   "execution_count": 2,
   "id": "adee3d3e",
   "metadata": {},
   "outputs": [],
   "source": [
    "from PIL import Image\n",
    "from torchvision import transforms\n",
    "\n",
    "img1 = Image.open(\"example1.jpg\")\n",
    "img2 = Image.open(\"example2.jpg\")\n",
    "\n",
    "resize = transforms.Compose([transforms.Resize((120, 120)),\n",
    "                             transforms.ToTensor()])\n",
    "img1 = resize(img1)\n",
    "img2 = resize(img2)\n",
    "batch = torch.stack((img1, img2))"
   ]
  },
  {
   "cell_type": "code",
   "execution_count": 3,
   "id": "e1e137bf",
   "metadata": {},
   "outputs": [],
   "source": [
    "with torch.no_grad():\n",
    "    logits = model(batch)"
   ]
  },
  {
   "cell_type": "code",
   "execution_count": 4,
   "id": "d06fadd2",
   "metadata": {},
   "outputs": [],
   "source": [
    "def label_from_logits(logits):\n",
    "    \"\"\" Converts logits to class labels.\n",
    "    This is function is specific to CORN.\n",
    "    \"\"\"\n",
    "    probas = torch.sigmoid(logits)\n",
    "    probas = torch.cumprod(probas, dim=1)\n",
    "    predict_levels = probas > 0.5\n",
    "    predicted_labels = torch.sum(predict_levels, dim=1)\n",
    "    return predicted_labels"
   ]
  },
  {
   "cell_type": "code",
   "execution_count": 5,
   "id": "02fcfe32",
   "metadata": {},
   "outputs": [
    {
     "name": "stdout",
     "output_type": "stream",
     "text": [
      "Rank indices [0-13]: tensor([9, 3])\n",
      "Real ages [18-30]: tensor([27, 21])\n"
     ]
    }
   ],
   "source": [
    "predictions = label_from_logits(logits)\n",
    "\n",
    "print(f'Rank indices [0-13]: {predictions}')\n",
    "print(f'Real ages [18-30]: {predictions+18}')"
   ]
  },
  {
   "cell_type": "markdown",
   "id": "cdfcf1bc",
   "metadata": {},
   "source": [
    "# "
   ]
  },
  {
   "cell_type": "markdown",
   "id": "e41220b8",
   "metadata": {},
   "source": [
    "# Transfer Learning"
   ]
  },
  {
   "cell_type": "markdown",
   "id": "afab98f3",
   "metadata": {},
   "source": [
    "Use the pretrained model and adjust it to the number of classes in your dataset:"
   ]
  },
  {
   "cell_type": "markdown",
   "id": "d04da416",
   "metadata": {},
   "source": [
    "```python\n",
    "model = torch.hub.load(\"rasbt/ord-torchhub\", model=\"resnet34_corn_afad\", source='github', pretrained=True)\n",
    "\n",
    "NUM_CLASSES = # number of classes in your dataset\n",
    "model.output_layer = torch.nn.Linear(512, out_features=NUM_CLASSES-1)\n",
    "```"
   ]
  },
  {
   "cell_type": "markdown",
   "id": "72f359b9",
   "metadata": {},
   "source": [
    "Then, take a look at the [../_train/resnet34_corn_afad.py](../_train/resnet34_corn_afad.py) file for defining the training loop.\n",
    "\n",
    "Essentially, you need to replace the \n",
    "\n",
    "\n",
    "    ##########################\n",
    "    # MODEL\n",
    "    ##########################\n",
    "\n",
    "\n",
    "section with the model above. And adjust the \n",
    "\n",
    "    ############################\n",
    "    # Dataset\n",
    "    ############################\n",
    "    \n",
    "section based on your dataset."
   ]
  },
  {
   "cell_type": "code",
   "execution_count": null,
   "id": "3141159b",
   "metadata": {},
   "outputs": [],
   "source": []
  }
 ],
 "metadata": {
  "kernelspec": {
   "display_name": "Python 3 (ipykernel)",
   "language": "python",
   "name": "python3"
  },
  "language_info": {
   "codemirror_mode": {
    "name": "ipython",
    "version": 3
   },
   "file_extension": ".py",
   "mimetype": "text/x-python",
   "name": "python",
   "nbconvert_exporter": "python",
   "pygments_lexer": "ipython3",
   "version": "3.8.13"
  }
 },
 "nbformat": 4,
 "nbformat_minor": 5
}
