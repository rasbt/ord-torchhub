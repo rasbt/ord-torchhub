{
 "cells": [
  {
   "cell_type": "markdown",
   "id": "eae47616",
   "metadata": {},
   "source": [
    "# Loading a Pretrained Model"
   ]
  },
  {
   "cell_type": "code",
   "execution_count": 2,
   "id": "e0e842f5",
   "metadata": {},
   "outputs": [
    {
     "name": "stderr",
     "output_type": "stream",
     "text": [
      "Using cache found in /Users/sebastianraschka/.cache/torch/hub/rasbt_ord-torchhub_main\n",
      "Downloading: \"https://github.com/rasbt/ord-torchhub/releases/download/1.0.0/resnet34_crossentr_afad.pt\" to /Users/sebastianraschka/.cache/torch/hub/checkpoints/resnet34_crossentr_afad.pt\n",
      "28.8%IOPub message rate exceeded.\n",
      "The notebook server will temporarily stop sending output\n",
      "to the client in order to avoid crashing it.\n",
      "To change this limit, set the config variable\n",
      "`--NotebookApp.iopub_msg_rate_limit`.\n",
      "\n",
      "Current values:\n",
      "NotebookApp.iopub_msg_rate_limit=1000.0 (msgs/sec)\n",
      "NotebookApp.rate_limit_window=3.0 (secs)\n",
      "\n",
      "100.0%\n"
     ]
    }
   ],
   "source": [
    "import torch\n",
    "\n",
    "\n",
    "device = torch.device('cuda' if torch.cuda.is_available() else 'cpu')\n",
    "\n",
    "model = torch.hub.load(\"rasbt/ord-torchhub\", model=\"resnet34_crossentr_afad\", source='github', pretrained=True)\n",
    "model.to(device);"
   ]
  },
  {
   "cell_type": "markdown",
   "id": "2c3c3e30",
   "metadata": {},
   "source": [
    "# Classifying Images (from AFAD)"
   ]
  },
  {
   "cell_type": "markdown",
   "id": "43ee7820",
   "metadata": {},
   "source": [
    "Note that the model has been pretrained on the [AFAD dataset](https://afad-dataset.github.io) and may not perform well on other datasets."
   ]
  },
  {
   "cell_type": "code",
   "execution_count": 3,
   "id": "733eba5d",
   "metadata": {},
   "outputs": [],
   "source": [
    "from PIL import Image\n",
    "from torchvision import transforms\n",
    "\n",
    "img1 = Image.open(\"example1.jpg\")\n",
    "img2 = Image.open(\"example2.jpg\")\n",
    "\n",
    "resize = transforms.Compose([transforms.Resize((120, 120)),\n",
    "                             transforms.ToTensor()])\n",
    "img1 = resize(img1)\n",
    "img2 = resize(img2)\n",
    "batch = torch.stack((img1, img2))"
   ]
  },
  {
   "cell_type": "code",
   "execution_count": 4,
   "id": "02a7c6ac",
   "metadata": {},
   "outputs": [],
   "source": [
    "with torch.no_grad():\n",
    "    logits = model(batch)"
   ]
  },
  {
   "cell_type": "code",
   "execution_count": 5,
   "id": "d349495e",
   "metadata": {},
   "outputs": [],
   "source": [
    "    def label_from_logits(logits):\n",
    "        _, predicted_labels = torch.max(logits, 1)\n",
    "        return predicted_labels"
   ]
  },
  {
   "cell_type": "code",
   "execution_count": 6,
   "id": "f3e4ac94",
   "metadata": {},
   "outputs": [
    {
     "name": "stdout",
     "output_type": "stream",
     "text": [
      "Rank indices [0-13]: tensor([6, 4])\n",
      "Real ages [18-30]: tensor([24, 22])\n"
     ]
    }
   ],
   "source": [
    "predictions = label_from_logits(logits)\n",
    "\n",
    "print(f'Rank indices [0-13]: {predictions}')\n",
    "print(f'Real ages [18-30]: {predictions+18}')"
   ]
  },
  {
   "cell_type": "markdown",
   "id": "34f64483",
   "metadata": {},
   "source": [
    "# "
   ]
  },
  {
   "cell_type": "markdown",
   "id": "5136206b",
   "metadata": {},
   "source": [
    "# Transfer Learning"
   ]
  },
  {
   "cell_type": "markdown",
   "id": "ad6a4766",
   "metadata": {},
   "source": [
    "Use the pretrained model and adjust it to the number of classes in your dataset:"
   ]
  },
  {
   "cell_type": "markdown",
   "id": "fe108bde",
   "metadata": {},
   "source": [
    "```python\n",
    "model = torch.hub.load(\"rasbt/ord-torchhub\", model=\"resnet34_coral_afad\", source='github', pretrained=True)\n",
    "\n",
    "NUM_CLASSES = # number of classes in your dataset\n",
    "model.output_layer = torch.nn.Linear(512, NUM_CLASSES)\n",
    "```"
   ]
  },
  {
   "cell_type": "markdown",
   "id": "4953c7ec",
   "metadata": {},
   "source": [
    "Then, take a look at the [../_train/resnet34_crossentr_afad.py](../_train/resnet34_coral_afad.py) file for defining the training loop.\n",
    "\n",
    "Essentially, you need to replace the \n",
    "\n",
    "\n",
    "    ##########################\n",
    "    # MODEL\n",
    "    ##########################\n",
    "\n",
    "\n",
    "section with the model above. And adjust the \n",
    "\n",
    "    ############################\n",
    "    # Dataset\n",
    "    ############################\n",
    "    \n",
    "section based on your dataset."
   ]
  }
 ],
 "metadata": {
  "kernelspec": {
   "display_name": "Python 3 (ipykernel)",
   "language": "python",
   "name": "python3"
  },
  "language_info": {
   "codemirror_mode": {
    "name": "ipython",
    "version": 3
   },
   "file_extension": ".py",
   "mimetype": "text/x-python",
   "name": "python",
   "nbconvert_exporter": "python",
   "pygments_lexer": "ipython3",
   "version": "3.8.13"
  }
 },
 "nbformat": 4,
 "nbformat_minor": 5
}
